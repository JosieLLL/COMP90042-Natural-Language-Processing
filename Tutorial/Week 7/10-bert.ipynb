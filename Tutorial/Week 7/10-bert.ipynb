{
 "cells": [
  {
   "cell_type": "markdown",
   "metadata": {
    "id": "2wLWYdE939yj"
   },
   "source": [
    "# Fine-tuning with BERT\n",
    "\n",
    "In this workshop, we'll learn how to use a pre-trained BERT model for a sentiment analysis task. We'll be using the [pytorch](https://pytorch.org/) framework, and [huggingface's transformers library](https://github.com/huggingface/transformers), which provides a suite of transformer models with a consistent interface.\n",
    "\n",
    "Note: You may find certain parts of the code difficult to follow. This is because the model is designed based on the pytorch framework, so there'll be  pytorch syntax littered throughout the code. If you want to understand the code better, you're encouraged to do the [pytorch tutorial](https://pytorch.org/tutorials/), and also going through [the code of a pytorch language model](https://github.com/pytorch/examples/tree/master/word_language_model).\n",
    "\n",
    "Now let's enable GPU on the colab notebook. We can do this by going to \"Runtime $>$ Change runtime type\" and selecting \"GPU\" as the hardware accelerator. Click save."
   ]
  },
  {
   "cell_type": "markdown",
   "metadata": {
    "id": "VzCW5f2vnE9b"
   },
   "source": [
    "First let's install the pytorch and transformers packages"
   ]
  },
  {
   "cell_type": "code",
   "execution_count": 1,
   "metadata": {
    "colab": {
     "base_uri": "https://localhost:8080/"
    },
    "collapsed": true,
    "executionInfo": {
     "elapsed": 3355,
     "status": "ok",
     "timestamp": 1618296949890,
     "user": {
      "displayName": "Jey Han Lau",
      "photoUrl": "",
      "userId": "09065329932778503205"
     },
     "user_tz": -600
    },
    "id": "zkioaw3DnE9c",
    "outputId": "f0a3fbf6-3163-4dc0-8411-0d50bbd0d752"
   },
   "outputs": [
    {
     "name": "stdout",
     "output_type": "stream",
     "text": [
      "Requirement already satisfied: torch in /Users/rongxinz1/opt/anaconda3/lib/python3.8/site-packages (1.8.1)\n",
      "Requirement already satisfied: torchvision in /Users/rongxinz1/opt/anaconda3/lib/python3.8/site-packages (0.9.1)\n",
      "Requirement already satisfied: transformers in /Users/rongxinz1/opt/anaconda3/lib/python3.8/site-packages (3.2.0)\n",
      "Requirement already satisfied: typing-extensions in /Users/rongxinz1/opt/anaconda3/lib/python3.8/site-packages (from torch) (3.10.0.0)\n",
      "Requirement already satisfied: numpy in /Users/rongxinz1/opt/anaconda3/lib/python3.8/site-packages (from torch) (1.18.5)\n",
      "Requirement already satisfied: pillow>=4.1.1 in /Users/rongxinz1/opt/anaconda3/lib/python3.8/site-packages (from torchvision) (7.2.0)\n",
      "Requirement already satisfied: tqdm>=4.27 in /Users/rongxinz1/opt/anaconda3/lib/python3.8/site-packages (from transformers) (4.47.0)\n",
      "Requirement already satisfied: requests in /Users/rongxinz1/opt/anaconda3/lib/python3.8/site-packages (from transformers) (2.24.0)\n",
      "Requirement already satisfied: tokenizers==0.8.1.rc2 in /Users/rongxinz1/opt/anaconda3/lib/python3.8/site-packages (from transformers) (0.8.1rc2)\n",
      "Requirement already satisfied: filelock in /Users/rongxinz1/opt/anaconda3/lib/python3.8/site-packages (from transformers) (3.0.12)\n",
      "Requirement already satisfied: sacremoses in /Users/rongxinz1/opt/anaconda3/lib/python3.8/site-packages (from transformers) (0.0.43)\n",
      "Requirement already satisfied: sentencepiece!=0.1.92 in /Users/rongxinz1/opt/anaconda3/lib/python3.8/site-packages (from transformers) (0.1.91)\n",
      "Requirement already satisfied: regex!=2019.12.17 in /Users/rongxinz1/opt/anaconda3/lib/python3.8/site-packages (from transformers) (2020.6.8)\n",
      "Requirement already satisfied: packaging in /Users/rongxinz1/opt/anaconda3/lib/python3.8/site-packages (from transformers) (20.4)\n",
      "Requirement already satisfied: six in /Users/rongxinz1/opt/anaconda3/lib/python3.8/site-packages (from packaging->transformers) (1.15.0)\n",
      "Requirement already satisfied: pyparsing>=2.0.2 in /Users/rongxinz1/opt/anaconda3/lib/python3.8/site-packages (from packaging->transformers) (2.4.7)\n",
      "Requirement already satisfied: chardet<4,>=3.0.2 in /Users/rongxinz1/opt/anaconda3/lib/python3.8/site-packages (from requests->transformers) (3.0.4)\n",
      "Requirement already satisfied: idna<3,>=2.5 in /Users/rongxinz1/opt/anaconda3/lib/python3.8/site-packages (from requests->transformers) (2.10)\n",
      "Requirement already satisfied: certifi>=2017.4.17 in /Users/rongxinz1/opt/anaconda3/lib/python3.8/site-packages (from requests->transformers) (2020.6.20)\n",
      "Requirement already satisfied: urllib3!=1.25.0,!=1.25.1,<1.26,>=1.21.1 in /Users/rongxinz1/opt/anaconda3/lib/python3.8/site-packages (from requests->transformers) (1.25.9)\n",
      "Requirement already satisfied: click in /Users/rongxinz1/opt/anaconda3/lib/python3.8/site-packages (from sacremoses->transformers) (7.1.2)\n",
      "Requirement already satisfied: joblib in /Users/rongxinz1/opt/anaconda3/lib/python3.8/site-packages (from sacremoses->transformers) (0.16.0)\n",
      "\u001b[33mWARNING: You are using pip version 21.2.3; however, version 22.0.4 is available.\n",
      "You should consider upgrading via the '/Users/rongxinz1/opt/anaconda3/bin/python3 -m pip install --upgrade pip' command.\u001b[0m\n"
     ]
    }
   ],
   "source": [
    "!pip install torch torchvision transformers"
   ]
  },
  {
   "cell_type": "markdown",
   "metadata": {
    "id": "-0LPPNAInE9i"
   },
   "source": [
    "The installation will take a couple minutes.\n",
    "\n",
    "Once the packages are installed, we'll load a pre-trained BERT model. We'll use the smaller uncased BERT model (uncased means the data used for pre-training BERT is all lowercased)."
   ]
  },
  {
   "cell_type": "code",
   "execution_count": 7,
   "metadata": {
    "colab": {
     "base_uri": "https://localhost:8080/",
     "height": 132,
     "referenced_widgets": [
      "a558fc732c0c4c4b8a12605616d16ad4",
      "cde329ab4a2f4e309625b83d983eb665",
      "9fc0faf7ddd0476c9f32d4cf8ef342f2",
      "7b93a28e1141420dbda5776e4bb2ea25",
      "e123376683094b41a8e151deb142792e",
      "4ad237b0e16c4243b7b0b2fb8a428cbd",
      "7d5abd77586d4b6d91c4088f32d10ce9",
      "498525097ea14544ac558920c387bf7f",
      "b7536f77337c48b3ad5486076262d167",
      "52651e00187e4df087181b6fc25e05c1",
      "9ab077c6d9f34e00aa2901e5903d7580",
      "51d92c91a2a24616b389d9aff1e021b2",
      "2aba1e75e26b4835b0c165c46b1185c6",
      "37a1805a791b43bc9ba1d73948637d65",
      "e8e0159d124c49d28770433457f526d1",
      "2c33295e9e194beea8288f61084965db"
     ]
    },
    "executionInfo": {
     "elapsed": 18266,
     "status": "ok",
     "timestamp": 1618296964815,
     "user": {
      "displayName": "Jey Han Lau",
      "photoUrl": "",
      "userId": "09065329932778503205"
     },
     "user_tz": -600
    },
    "id": "sgde1MeD39yk",
    "outputId": "4f92ffe6-9f79-4290-9824-f840e3c48f3b"
   },
   "outputs": [
    {
     "name": "stderr",
     "output_type": "stream",
     "text": [
      "Some weights of the model checkpoint at bert-base-uncased were not used when initializing BertModel: ['cls.seq_relationship.bias', 'cls.predictions.transform.dense.bias', 'cls.predictions.bias', 'cls.predictions.transform.LayerNorm.weight', 'cls.predictions.transform.dense.weight', 'cls.predictions.transform.LayerNorm.bias', 'cls.predictions.decoder.weight', 'cls.seq_relationship.weight']\n",
      "- This IS expected if you are initializing BertModel from the checkpoint of a model trained on another task or with another architecture (e.g. initializing a BertForSequenceClassification model from a BertForPreTraining model).\n",
      "- This IS NOT expected if you are initializing BertModel from the checkpoint of a model that you expect to be exactly identical (initializing a BertForSequenceClassification model from a BertForSequenceClassification model).\n"
     ]
    },
    {
     "name": "stdout",
     "output_type": "stream",
     "text": [
      "Done loading BERT model.\n"
     ]
    }
   ],
   "source": [
    "#load pretrained bert base model\n",
    "from transformers import BertModel\n",
    "\n",
    "bert_model = BertModel.from_pretrained('bert-base-uncased')\n",
    "\n",
    "print(\"Done loading BERT model.\")"
   ]
  },
  {
   "cell_type": "markdown",
   "metadata": {
    "id": "59ifoyqGA-7m"
   },
   "source": [
    "BERT uses WordPiece tokenisation, which is a sub-word tokenisation algorithm like BPE. Let's tokenise a sentence with WordPiece and see how it works."
   ]
  },
  {
   "cell_type": "code",
   "execution_count": 1,
   "metadata": {
    "colab": {
     "base_uri": "https://localhost:8080/",
     "height": 181,
     "referenced_widgets": [
      "b75137e6267f46668a8e96dbd40b97f8",
      "7322fae0d93e420c87b04b9fe76592fe",
      "b50cb156207047cd8f441ea8470f9c21",
      "d4732e5208b64242a6dd69ece05aff11",
      "6c4d3eaaae4048b4a049e04b52c9ce2a",
      "8ddafd877934427ca608eb50d277c6cc",
      "6c72db6eda8349d9854cce41c22751eb",
      "e2b65a56abce4c1bb4fa4839e128ccfc",
      "3b4c267b7ad84748841b1d9a6af6d93b",
      "fb34b640799c41d89788a07190d53c36",
      "4125d0410f38414e81dad276d1e882ad",
      "fb57e22ba2ee44baae2bb834d56b93e8",
      "9e9552fe12084124866f393272f0ff6a",
      "53a23b0c63874ad0a02533ef7a536600",
      "bd64e784923b40139c25b863d572a14b",
      "cf92febcf4724c5fa98205d103dcf918",
      "b252d105ce094f67ad6018babf79e503",
      "e3720bead30647298a5385313f3c1f13",
      "5d9636dd20f047a797ab17f6de8f9092",
      "56b8940646da472983892ec6d3c6aa98",
      "c47214219e3949448867964eb041ea0a",
      "1c9ab2648f5a46e2a7d597b1864bfd73",
      "932670e9e28b48a28dfbceb141db7c19",
      "6681c34c26174cd8b2e814ed4e15f87b"
     ]
    },
    "executionInfo": {
     "elapsed": 20893,
     "status": "ok",
     "timestamp": 1618296967453,
     "user": {
      "displayName": "Jey Han Lau",
      "photoUrl": "",
      "userId": "09065329932778503205"
     },
     "user_tz": -600
    },
    "id": "2EqbuS_f39yu",
    "outputId": "635647f4-87a1-4c5e-96c8-18e0ce8ea058"
   },
   "outputs": [
    {
     "data": {
      "application/vnd.jupyter.widget-view+json": {
       "model_id": "1fcc1690bc94487d9386e602b4d06bce",
       "version_major": 2,
       "version_minor": 0
      },
      "text/plain": [
       "Downloading:   0%|          | 0.00/226k [00:00<?, ?B/s]"
      ]
     },
     "metadata": {},
     "output_type": "display_data"
    },
    {
     "data": {
      "application/vnd.jupyter.widget-view+json": {
       "model_id": "f03ba56953ed4506b77f5b0b6efd714f",
       "version_major": 2,
       "version_minor": 0
      },
      "text/plain": [
       "Downloading:   0%|          | 0.00/28.0 [00:00<?, ?B/s]"
      ]
     },
     "metadata": {},
     "output_type": "display_data"
    },
    {
     "name": "stdout",
     "output_type": "stream",
     "text": [
      "['i', 'enjoyed', 'this', 'movie', 'soo', '##oo', '##o', 'much', '.']\n"
     ]
    }
   ],
   "source": [
    "from transformers import BertTokenizer\n",
    "\n",
    "#load BERT's WordPiece tokenisation model\n",
    "tokenizer = BertTokenizer.from_pretrained('bert-base-uncased')\n",
    "\n",
    "sentence = 'I enjoyed this movie sooooo much.'\n",
    "tokens = tokenizer.tokenize(sentence)\n",
    "print(tokens)"
   ]
  },
  {
   "cell_type": "markdown",
   "metadata": {
    "id": "m6IDDDbznE9p"
   },
   "source": [
    "We can see for most words, they are tokenised as single words. But for the word \"sooooo\" it's tokenised into three subwords: \"soo\", \"##oo\" and \"##o\". The double hashtag \"##\" is a symbol to indicate a subword span of within a word."
   ]
  },
  {
   "cell_type": "markdown",
   "metadata": {
    "id": "JTrn2FVu39yw"
   },
   "source": [
    "BERT prepends every sentence with a special [CLS] token. As we saw in the lecture, we need this token when we fine-tune BERT for downstream tasks (e.g. spam detection).\n",
    "\n",
    "BERT also terminates a sentence with a special [SEP] token. While this token doesn't do much when we're working with problems that have single sentences as input (e.g. sentiment classification), it's useful when we're working with problems that involve sentence pairs (e.g. textual entailment and sentence similarity classification). In those cases, we need [SEP] to indicate when the first sentence finishes, and when the second sentence starts (e.g. for the sentence pair (_this movie is fantastic_, _this film is amazing_), the input to BERT will be: `[CLS] this movie is fantastic [SEP] this film is amazing [SEP]`).\n",
    "\n",
    "Note: Recall that in addition to the masked language model objective, BERT is also pre-trained with the next-sentence prediction objective. [SEP] is needed for the next-sentence objective (since it involves a sentence pair), and [CLS] is also used in this objective to classify the input sentence pair. And so [CLS] and [SEP] isn't used only during fine-tuning; they are also used during pre-training.\n",
    "\n",
    "Now let's preprocess the sentence by prepending [CLS] and appending [SEP]."
   ]
  },
  {
   "cell_type": "code",
   "execution_count": 2,
   "metadata": {
    "colab": {
     "base_uri": "https://localhost:8080/"
    },
    "executionInfo": {
     "elapsed": 20885,
     "status": "ok",
     "timestamp": 1618296967454,
     "user": {
      "displayName": "Jey Han Lau",
      "photoUrl": "",
      "userId": "09065329932778503205"
     },
     "user_tz": -600
    },
    "id": "ZTAmBw3D39yx",
    "outputId": "26c0fc9d-ff10-42b8-f6ef-a4005a15e2c1"
   },
   "outputs": [
    {
     "name": "stdout",
     "output_type": "stream",
     "text": [
      "['[CLS]', 'i', 'enjoyed', 'this', 'movie', 'soo', '##oo', '##o', 'much', '.', '[SEP]']\n"
     ]
    }
   ],
   "source": [
    "tokens = ['[CLS]'] + tokens + ['[SEP]']\n",
    "print(tokens)"
   ]
  },
  {
   "cell_type": "markdown",
   "metadata": {
    "id": "9YMusTTk39y0"
   },
   "source": [
    "Since we'll be using minibatches when fine-tuning BERT, we need to pad the input sequences so that they are all of the same length. We'll use the [PAD] token for this.\n",
    "\n",
    "Additionally, we need to create an attention mask vector. This attention mask vector is a binary vector and it tells BERT what words should and should not be attended. We need the attention mask vector here because we want BERT to ignore the [PAD] tokens (i.e. to not consider them when doing self-attention).\n",
    "\n",
    "Now let's pad the input sequence to a fixed length (12 in this example) and create the binary attention mask vector"
   ]
  },
  {
   "cell_type": "code",
   "execution_count": 3,
   "metadata": {
    "colab": {
     "base_uri": "https://localhost:8080/"
    },
    "executionInfo": {
     "elapsed": 20879,
     "status": "ok",
     "timestamp": 1618296967455,
     "user": {
      "displayName": "Jey Han Lau",
      "photoUrl": "",
      "userId": "09065329932778503205"
     },
     "user_tz": -600
    },
    "id": "YzSB6zff39y0",
    "outputId": "9b65d034-f7a6-41a7-ccf5-ae2b6bf62e5c"
   },
   "outputs": [
    {
     "name": "stdout",
     "output_type": "stream",
     "text": [
      "['[CLS]', 'i', 'enjoyed', 'this', 'movie', 'soo', '##oo', '##o', 'much', '.', '[SEP]', '[PAD]']\n",
      "[1, 1, 1, 1, 1, 1, 1, 1, 1, 1, 1, 0]\n"
     ]
    }
   ],
   "source": [
    "T = 12\n",
    "\n",
    "padded_tokens = tokens + ['[PAD]' for _ in range(T - len(tokens))]\n",
    "print(padded_tokens)\n",
    "\n",
    "attn_mask = [1 if token != '[PAD]' else 0 for token in padded_tokens]\n",
    "print(attn_mask)"
   ]
  },
  {
   "cell_type": "markdown",
   "metadata": {
    "id": "_xsoI8Hz39y3"
   },
   "source": [
    "The last preprocessing step is to create the segment IDs. The segment IDs is again a binary vector, and denotes the sentence IDs (first or second sentence) in the input sequence. We use 0 to denote the first sentence, and 1 the second sentence. As we are working with a single sentence as input for sentiment analysis, the segment IDs is just a vector of 0's. But for a sentence pair classification problem like sentence similarity classification, an input like `[CLS] this movie is fantastic [SEP] this film is amazing [SEP]` would have a segment IDs of `[0 0 0 0 0 0 1 1 1 1 1]`"
   ]
  },
  {
   "cell_type": "code",
   "execution_count": 4,
   "metadata": {
    "colab": {
     "base_uri": "https://localhost:8080/"
    },
    "executionInfo": {
     "elapsed": 20873,
     "status": "ok",
     "timestamp": 1618296967455,
     "user": {
      "displayName": "Jey Han Lau",
      "photoUrl": "",
      "userId": "09065329932778503205"
     },
     "user_tz": -600
    },
    "id": "pwdVZux_39y3",
    "outputId": "83ab3d85-2a0b-4649-d716-d6cf0221e105"
   },
   "outputs": [
    {
     "name": "stdout",
     "output_type": "stream",
     "text": [
      "[0, 0, 0, 0, 0, 0, 0, 0, 0, 0, 0, 0]\n"
     ]
    }
   ],
   "source": [
    "seg_ids = [0 for _ in range(len(padded_tokens))] #Since we only have a single sequence as input\n",
    "print(seg_ids)"
   ]
  },
  {
   "cell_type": "markdown",
   "metadata": {
    "id": "n-d4Fdn039y7"
   },
   "source": [
    "Now let's convert the tokens in preprocessed sentence into their respective vocab IDs"
   ]
  },
  {
   "cell_type": "code",
   "execution_count": 5,
   "metadata": {
    "colab": {
     "base_uri": "https://localhost:8080/"
    },
    "executionInfo": {
     "elapsed": 20867,
     "status": "ok",
     "timestamp": 1618296967456,
     "user": {
      "displayName": "Jey Han Lau",
      "photoUrl": "",
      "userId": "09065329932778503205"
     },
     "user_tz": -600
    },
    "id": "Gc79UDdt39y7",
    "outputId": "e22182b2-2aa9-4a6b-ec18-5ddcb89e51f7"
   },
   "outputs": [
    {
     "name": "stdout",
     "output_type": "stream",
     "text": [
      "[101, 1045, 5632, 2023, 3185, 17111, 9541, 2080, 2172, 1012, 102, 0]\n"
     ]
    }
   ],
   "source": [
    "token_ids = tokenizer.convert_tokens_to_ids(padded_tokens)\n",
    "print(token_ids)"
   ]
  },
  {
   "cell_type": "markdown",
   "metadata": {
    "id": "j2gyfDLB39y-"
   },
   "source": [
    "We can see [CLS] has a vocab ID of 101, [SEP] 102 and [PAD] 0.\n",
    "\n",
    "Next let's turn the IDs into torch tensors, and feed the input sequence to BERT."
   ]
  },
  {
   "cell_type": "code",
   "execution_count": 8,
   "metadata": {
    "colab": {
     "base_uri": "https://localhost:8080/"
    },
    "executionInfo": {
     "elapsed": 21401,
     "status": "ok",
     "timestamp": 1618296967996,
     "user": {
      "displayName": "Jey Han Lau",
      "photoUrl": "",
      "userId": "09065329932778503205"
     },
     "user_tz": -600
    },
    "id": "jrQWFNd139y-",
    "outputId": "c030d20e-6fd0-4dd4-bd7d-b26f5510ac4c"
   },
   "outputs": [
    {
     "name": "stdout",
     "output_type": "stream",
     "text": [
      "torch.Size([1, 12, 768])\n",
      "tensor([ 0.2897, -0.3014,  0.1959, -0.1320, -0.3270, -0.8532,  0.0598,  0.6822,\n",
      "         0.2358, -0.0022], grad_fn=<SliceBackward0>)\n"
     ]
    }
   ],
   "source": [
    "import torch\n",
    "\n",
    "#Converting all the input vectors to torch tensors\n",
    "token_ids_t = torch.tensor(token_ids).unsqueeze(0) #Shape : [1, 12]\n",
    "attn_mask_t = torch.tensor(attn_mask).unsqueeze(0) #Shape : [1, 12]\n",
    "seg_ids_t   = torch.tensor(seg_ids).unsqueeze(0) #Shape : [1, 12]\n",
    "\n",
    "#Feed them to bert and get the contextualised embeddings\n",
    "outputs = bert_model(token_ids_t, attention_mask = attn_mask_t,\\\n",
    "                                  token_type_ids = seg_ids_t, return_dict=True)\n",
    "hidden_reps = outputs.last_hidden_state\n",
    "print(hidden_reps.shape)\n",
    "print(hidden_reps[0, 0, :10])"
   ]
  },
  {
   "cell_type": "code",
   "execution_count": 31,
   "metadata": {},
   "outputs": [
    {
     "data": {
      "text/plain": [
       "tensor([ 3.2423e-01,  1.6214e-01,  2.2628e-01,  1.9564e-01, -4.0292e-02,\n",
       "         1.3933e-01, -1.5143e-02,  6.3619e-01,  2.7507e-01,  1.0026e-01,\n",
       "        -1.5782e-01,  3.2452e-01,  3.0623e-01,  4.9304e-01,  4.9036e-01,\n",
       "         2.5728e-01,  6.3647e-02,  3.1969e-01, -1.7760e-01, -9.0736e-02,\n",
       "         1.2530e-02, -2.4971e-01, -5.4309e-01, -4.3809e-02,  3.1036e-01,\n",
       "        -3.0551e-01, -1.3514e-01,  3.4806e-02, -2.5710e-03,  2.7034e-01,\n",
       "         2.6741e-01, -1.7350e-01,  1.6695e-01,  3.1937e-01, -4.4786e-01,\n",
       "         3.0801e-01, -2.7132e-01, -2.2225e-01, -3.8920e-01, -2.2351e-01,\n",
       "        -2.0796e-01, -1.5369e-01,  2.8827e-03, -3.1839e-01, -5.6523e-01,\n",
       "        -3.6924e-01,  1.0429e-01, -1.6899e-01,  1.2749e-02, -4.5412e-01,\n",
       "         1.2899e-01,  5.3969e-02,  1.2930e-01, -1.4077e-01,  3.4561e-01,\n",
       "         3.7639e-01, -2.4342e-01, -2.5221e-01, -3.1389e-01,  4.3388e-02,\n",
       "         5.5426e-01, -3.8031e-02,  6.1603e-03, -2.5777e-01,  1.4672e-01,\n",
       "         3.8578e-02,  1.3644e-01, -1.6326e-01,  2.9177e-01, -6.4874e-01,\n",
       "         2.1053e-01, -2.2049e-01, -2.9246e-01, -2.2876e-01,  1.6977e-02,\n",
       "         1.6070e-01,  4.8906e-01, -1.1887e-01, -5.8780e-02,  1.7880e-01,\n",
       "         2.0092e-01,  2.0751e-01, -1.2383e-01,  3.6911e-01,  3.4497e-02,\n",
       "         4.2469e-01, -4.9367e-02,  5.4730e-03,  2.0469e-01,  1.4773e-01,\n",
       "        -3.4920e-01, -2.4221e-01, -1.3133e-01, -3.3261e-02,  1.9001e-01,\n",
       "        -5.6851e-01, -2.4006e-01, -1.4607e-01, -3.9372e-01, -3.6061e-01,\n",
       "        -1.2182e-01, -1.7264e-01, -5.8877e-02,  1.8834e-01, -4.6256e-01,\n",
       "         1.7150e-01,  3.5604e-01, -1.7884e-01, -1.2718e-02,  1.3998e-01,\n",
       "        -5.2204e-01,  7.3948e-02, -2.9395e-01, -2.6499e-01, -4.7579e-01,\n",
       "         3.5314e-01, -1.8411e-01, -6.3524e-02,  4.4821e-02,  2.4288e-01,\n",
       "        -4.1826e-02,  1.3964e-01,  4.6111e-02,  8.2140e-01,  2.0317e-02,\n",
       "         1.6729e-01,  1.9898e-02,  7.9771e-03, -3.4888e-01, -5.6866e-01,\n",
       "         5.4020e-01,  1.4125e-01, -3.0414e-01, -7.0467e-02,  1.7976e-01,\n",
       "        -3.3436e-01,  2.2509e-02,  4.1800e-02,  2.4523e-02, -2.8609e-01,\n",
       "        -1.3048e-01,  2.1064e-01, -1.0175e-01, -2.3973e-01, -2.5439e-01,\n",
       "         9.9561e-02,  2.3155e-01,  3.3276e-01, -4.9434e-01, -1.0739e-01,\n",
       "        -2.0723e-01,  3.5513e-01, -5.5121e-01, -1.0455e+00, -1.7032e-02,\n",
       "         5.9279e-01, -5.0442e-01,  2.8083e-02, -9.2060e-02, -1.5285e-01,\n",
       "         4.5958e-01,  5.4300e-02, -2.0766e-01,  7.8031e-03,  4.3894e-01,\n",
       "         3.1817e-01,  3.2609e-01,  2.3115e-01,  1.3164e-01,  8.3362e-02,\n",
       "         1.7739e-01,  4.9379e-02,  6.6312e-02,  2.2330e-01,  1.3059e-01,\n",
       "        -7.4808e-02,  6.8756e-01,  5.3687e-01, -9.8251e-04, -4.0494e-02,\n",
       "         1.6941e-01,  1.1679e-01,  8.2792e-02, -1.0512e-01,  6.4245e-03,\n",
       "        -1.3506e-01, -1.3882e-01, -2.9120e-01,  2.3479e-01, -3.0693e-02,\n",
       "        -1.8201e-01, -1.2220e-01,  3.1918e-01, -1.4394e-01,  2.5610e-01,\n",
       "        -3.4133e-01,  3.0489e-01,  5.8256e-01,  6.7702e-02,  3.2633e-01,\n",
       "         2.4450e-01, -7.8399e-02,  5.1276e-01,  1.0766e-01,  1.1402e-01,\n",
       "        -6.3939e-02,  7.3697e-01,  2.8638e-01, -4.3519e-01, -3.5494e-01,\n",
       "        -2.8595e-01,  2.9234e-01,  2.8186e-02, -1.5114e-01, -2.6070e-01,\n",
       "         1.3251e-01, -3.6827e-02,  4.6394e-01,  9.1179e-02,  8.8359e-02,\n",
       "        -8.3099e-02, -2.2904e-01, -2.8877e-01, -2.1152e-01, -2.2688e-02,\n",
       "         4.9185e-02,  3.9104e-02,  9.3449e-03,  3.6838e-01, -3.9809e-01,\n",
       "        -4.9445e-01, -3.6188e-03, -1.8876e-01,  2.3527e-01, -1.3906e-01,\n",
       "         1.0798e-01,  1.8467e-01, -3.1791e-01, -9.2830e-02,  2.7241e-01,\n",
       "         7.6802e-02,  2.7358e-01, -2.6357e-01, -7.0982e-04, -1.9088e-01,\n",
       "         5.7372e-01,  1.9114e-01,  1.7004e-01, -1.7631e-01, -4.3109e-01,\n",
       "         1.9634e-01,  3.5248e-01,  3.2980e-02,  3.6608e-02,  3.3473e-01,\n",
       "         2.2271e-01,  8.3427e-02,  2.8573e-01, -1.6632e-02, -1.8006e-01,\n",
       "         1.5856e-01, -7.2458e-02,  5.3784e-02,  1.6626e-01, -7.7896e-02,\n",
       "         1.0750e-01, -6.3175e-01,  2.4108e-01, -1.6227e-01,  3.4634e-01,\n",
       "        -3.1660e-01, -7.0609e-02, -9.8309e-02,  3.1207e-01,  2.0211e-01,\n",
       "        -1.2710e-01,  3.2659e-01, -2.0277e-01,  1.6936e-01,  5.5154e-02,\n",
       "        -3.6539e-01,  3.9946e-01, -3.8961e-01, -7.5753e-02,  1.1371e-01,\n",
       "        -2.7516e-01, -3.6271e-01, -3.6913e-01,  1.0997e-01, -1.6786e-02,\n",
       "         3.2935e-01,  2.0542e-01, -6.0492e-01,  8.7233e-02,  1.4814e-01,\n",
       "        -1.1367e-01,  2.8413e-01,  2.7269e-01,  2.6208e-02, -1.5326e-01,\n",
       "        -3.4910e-01, -4.4759e-02,  1.6975e-01, -7.4598e-02,  5.7249e-01,\n",
       "         1.4209e-01, -9.0059e-02,  2.8319e-01, -6.6101e+00, -1.0206e-01,\n",
       "        -2.6249e-01, -3.4029e-01, -1.6431e-01,  9.8977e-02, -2.7666e-01,\n",
       "        -3.0782e-01, -1.0501e-01, -7.2075e-02,  7.0204e-01, -1.6690e-01,\n",
       "        -1.9465e-01,  2.3647e-02,  2.1026e-01, -1.0911e-01, -1.1982e-02,\n",
       "         2.4147e-02,  5.4760e-02,  3.8925e-01, -2.5348e-01,  3.0146e-01,\n",
       "        -3.1078e-01, -3.2128e-01,  2.3687e-01, -3.7823e-01,  2.2022e-01,\n",
       "        -2.1748e-01,  2.6404e-01,  4.0961e-01, -2.1472e-01, -3.6491e-03,\n",
       "         2.0122e-01, -3.9835e-02,  1.7507e-01,  9.4781e-02, -7.5297e-02,\n",
       "        -2.6538e-01, -1.1331e-02, -2.0101e-02,  2.3018e-01, -5.9046e-01,\n",
       "        -4.3542e-01,  5.2336e-02,  1.2366e-01,  8.4315e-02, -1.5314e-01,\n",
       "         1.9110e-01,  1.8901e-01,  1.6156e-01,  5.9415e-01, -4.4317e-02,\n",
       "         9.9142e-02, -5.3607e-02,  2.2829e-01,  1.4684e-01,  3.1681e-02,\n",
       "         1.9166e-02, -5.2555e-01, -1.4200e-01,  3.2637e-01,  2.4048e-01,\n",
       "        -2.7433e-01, -3.0987e-01,  6.5815e-02,  5.2177e-01,  8.6414e-02,\n",
       "         1.4285e-01,  1.3676e-01,  5.6674e-01,  1.9284e-01, -1.6699e-01,\n",
       "         1.1284e-01, -2.3403e-01,  9.8773e-02, -1.4109e-01,  1.8764e-02,\n",
       "        -2.4610e-01, -7.0316e-02,  2.2233e-01,  5.8415e-02, -1.1904e-01,\n",
       "        -4.8515e-02, -1.5889e-01,  9.3195e-02,  1.3488e-01, -2.1026e-01,\n",
       "        -3.1695e-01, -1.8326e-02,  1.1566e-02,  2.1747e-01, -5.1411e-02,\n",
       "         9.4498e-02,  2.5113e-01,  1.2774e-01, -8.9239e-02,  4.2076e-01,\n",
       "         2.4610e-01,  2.0480e-01,  3.7380e-01,  3.0734e-01, -3.3122e-02,\n",
       "        -1.1773e-01, -6.0137e-02,  1.3285e-01, -3.1490e-01, -2.7105e-01,\n",
       "         3.2948e-01,  2.1633e-01, -5.3445e-01,  2.8379e-01, -8.6932e-02,\n",
       "         1.9559e-02, -2.4789e-02, -2.7106e-01, -3.1587e-01,  2.4456e-01,\n",
       "        -4.7303e-02,  9.4577e-03, -1.4659e-01, -3.4704e-01, -1.3578e-01,\n",
       "        -3.2825e-01,  8.4471e-02,  4.8180e-02,  4.1418e-01, -5.0304e-01,\n",
       "         5.2026e-02,  6.2588e-01, -1.6702e-01,  4.1522e-01,  3.4386e-01,\n",
       "         1.3137e-01,  5.4473e-01, -1.3810e-01, -3.6130e-01, -9.5628e-02,\n",
       "         1.0088e-02, -5.2670e-01, -3.2725e-01, -1.0915e-01, -1.3959e-01,\n",
       "        -1.3489e-02, -4.7253e-01, -5.0430e-01,  3.3960e-01, -9.6315e-02,\n",
       "         5.9170e-02, -1.3747e-01,  2.9918e-01, -2.1799e-02, -8.2328e-03,\n",
       "        -3.3776e-01,  4.2416e-01,  2.9657e-02,  2.7576e-01, -1.0009e-02,\n",
       "         3.1705e-01, -6.5121e-02, -9.5870e-02,  2.8792e-01, -3.1732e-01,\n",
       "         1.1220e-01,  3.2722e-01,  3.0517e-01,  3.4687e-01, -1.6906e-01,\n",
       "        -5.5827e-02, -2.4715e-01, -4.5484e-02,  4.1096e-01, -1.1909e-01,\n",
       "         2.7901e-02, -3.6252e-01, -1.5274e-01,  1.3925e-01, -3.2665e-01,\n",
       "        -9.7852e-02, -4.5751e-01, -4.5332e-02, -1.8471e-02, -2.4310e-01,\n",
       "         3.7928e-01,  3.5918e-02,  2.0295e-01,  1.5107e-01, -3.6304e-01,\n",
       "         2.4022e-01,  3.9387e-01,  1.5057e-01,  3.9985e-01,  3.3238e-01,\n",
       "         1.4250e-01, -3.8339e-01, -2.4641e-01, -6.8755e-01,  4.3749e-01,\n",
       "        -1.3962e-01, -2.7085e-04,  1.4361e-01, -1.6955e-01, -3.0863e-01,\n",
       "        -3.0857e-01, -5.1559e-02, -2.2741e-01, -1.7807e-01,  4.1017e-01,\n",
       "        -9.2618e-02,  2.9187e-01,  2.9391e-01, -7.2797e-02, -2.3701e-01,\n",
       "        -1.1480e-01, -3.6239e-02, -2.2732e-01,  2.4155e-01,  3.1721e-01,\n",
       "        -3.2252e-01, -4.9624e-03, -1.8601e-02, -3.8878e-01,  2.0815e-01,\n",
       "        -1.3575e-01, -1.5365e-01, -7.2638e-02, -1.3641e-01, -2.0453e-01,\n",
       "         3.9641e-02, -4.5246e-01, -1.9945e-01,  2.9445e-01,  3.9641e-01,\n",
       "         2.2214e-01,  4.7334e-01,  2.2158e-01, -2.9061e-01,  7.6436e-02,\n",
       "         2.1867e-01,  7.4509e-02,  2.4758e-01,  8.4250e-02,  5.6038e-02,\n",
       "         3.8801e-01, -1.1121e-01, -6.2044e-01, -4.3199e-01, -1.1674e-01,\n",
       "        -3.2089e-02, -2.0579e-01,  8.2261e-02,  1.3454e-02, -5.1657e-01,\n",
       "        -7.8291e-02,  1.3786e-01,  2.4871e-01, -3.5101e-01, -1.1636e-01,\n",
       "         2.0311e-01, -4.1558e-01,  9.5492e-02, -6.0780e-02, -9.7688e-02,\n",
       "        -3.6980e-01, -1.4601e-02,  3.4028e-01,  4.5083e-01, -2.2535e-01,\n",
       "        -2.5538e-01, -2.5311e-02,  9.6759e-02,  7.2249e-02, -2.3964e-01,\n",
       "        -3.5643e-01, -4.4634e-01, -2.7253e-02,  1.6552e-01, -5.5630e-01,\n",
       "         2.0022e-01,  4.6063e-01,  3.2299e-01, -7.8321e-02, -5.4390e-01,\n",
       "        -6.8653e-02, -2.6007e-01,  6.3503e-01, -2.3342e-01, -4.9611e-01,\n",
       "        -2.5695e-01,  6.4075e-02,  2.0504e-01, -1.5917e-01, -8.2919e-03,\n",
       "        -3.3242e-01, -1.7984e-01, -9.9521e-02,  2.4685e-01,  1.8477e-03,\n",
       "        -4.1913e-02, -1.4748e-01, -9.4478e-02, -9.5812e-02, -1.0380e-01,\n",
       "         2.0732e-01, -1.4123e-01, -1.9258e-01,  4.9525e-01,  2.5584e-01,\n",
       "        -1.1832e-01, -3.2493e-01,  5.8781e-02,  1.3140e-01,  6.6249e-02,\n",
       "         1.6220e-01, -2.7992e-01, -3.4362e-02, -3.8588e-01,  3.8726e-01,\n",
       "        -1.2830e-01, -2.0529e-01, -2.2051e-01,  1.0157e-02, -3.5443e-01,\n",
       "         5.1288e-01, -2.2302e-01,  2.2330e-01,  4.1696e-01, -2.4156e-01,\n",
       "         4.1346e-03,  5.3303e-01,  4.2662e-01, -2.1181e-01,  2.2431e-01,\n",
       "         2.3938e-01,  2.4415e-01,  1.6754e-01,  2.3271e-04, -8.9334e-02,\n",
       "        -6.2170e-01, -3.8184e-01,  5.2125e-01,  3.0435e-01, -3.2503e-01,\n",
       "        -2.7761e-01,  3.3286e-01, -3.2097e-01,  4.8827e-02,  3.9684e-01,\n",
       "        -5.3125e-01,  4.2543e-01, -2.4700e-01, -4.6349e-01,  5.2664e-01,\n",
       "         1.1271e-01, -3.5826e-01,  4.0144e-01,  5.3825e-01,  1.8665e-01,\n",
       "         2.6079e-02,  1.0898e-01,  5.9312e-02,  8.7654e-02,  2.5308e-01,\n",
       "         2.4792e-01,  4.6977e-01,  2.9209e-02,  7.3544e-02,  4.0611e-01,\n",
       "         5.1501e-01, -1.8949e-01, -1.4494e-01,  8.5694e-02,  1.4663e-01,\n",
       "        -2.9103e-02,  2.4645e-01, -3.2296e-01,  1.8613e-01,  1.9948e-01,\n",
       "        -1.1687e-01, -1.0762e-01,  1.9065e-01,  2.6734e-01,  3.1612e-01,\n",
       "        -3.4921e-02, -5.0323e-01, -1.1412e-01, -3.7552e-02,  2.4470e-01,\n",
       "        -1.1416e-02, -1.1252e-01, -3.9693e-01,  4.6455e-02, -6.3791e-01,\n",
       "        -2.6629e-01, -3.8109e-01,  5.3055e-01, -3.8852e-01, -3.6343e-01,\n",
       "         4.0242e-02,  4.8077e-01, -2.9571e-01,  1.9608e-01,  4.2305e-01,\n",
       "         2.1500e-02,  2.7940e-01, -3.4622e-01,  1.0928e-01,  1.1439e-01,\n",
       "        -4.6954e-01, -4.0252e-01,  2.9106e-02, -1.0579e-01,  5.0778e-01,\n",
       "        -2.1154e-01, -2.0124e-01,  2.7891e-01, -1.2492e-01,  5.8044e-01,\n",
       "         1.5018e-02, -7.7620e-02, -7.1856e-02,  1.3468e-01, -8.9656e-02,\n",
       "        -1.7862e-01,  4.5451e-01, -3.1831e-01,  6.6981e-02,  6.5203e-02,\n",
       "        -2.0014e-02, -6.0580e-01,  1.6007e-01, -3.2436e-01,  5.8311e-02,\n",
       "        -3.1077e-02, -2.9194e-01, -5.6675e-02, -1.6759e-01,  1.3351e-01,\n",
       "        -2.6525e-01, -4.1430e-01, -1.3646e-01,  6.4310e-02, -6.4781e-02,\n",
       "        -7.8847e-01, -2.2898e-01,  3.7354e-01,  2.2644e-01,  8.8339e-02,\n",
       "        -1.7467e-01, -5.6843e-02, -2.6402e-01,  4.9590e-01,  2.4553e-02,\n",
       "        -1.1377e-02, -5.2824e-01,  1.5655e-01,  1.2918e-02, -9.2484e-02,\n",
       "        -4.0119e-02,  6.5534e-02,  2.2584e-01], grad_fn=<SelectBackward0>)"
      ]
     },
     "execution_count": 31,
     "metadata": {},
     "output_type": "execute_result"
    }
   ],
   "source": [
    "hidden_reps[0, 11]"
   ]
  },
  {
   "cell_type": "markdown",
   "metadata": {
    "id": "C6v5VMTm39zB"
   },
   "source": [
    "`hidden_reps` is the contextualised embeddings for all tokens in the sentence\n",
    "\n",
    "It has a dimension of [1, 12, 768] because we have one sentence in our minibatch, and that sentence has a length of 12 tokens, and each token has a contextualised embedding of 768 dimensions."
   ]
  },
  {
   "cell_type": "markdown",
   "metadata": {
    "id": "1_NGjrIk39zB"
   },
   "source": [
    "Now that we understood how to preprocess sentences and get the contextualised embeddings from BERT, let's move to the actual classification problem: sentiment analysis.\n",
    "\n",
    "We'll be using the Stanford sentiment treebank data as our dataset. Let's upload the data (10-train.tsv and 10-dev.tsv) to colab. We can do this by clicking the folder icon on the left, and selecting \"Upload\" to upload the two files.\n",
    "\n",
    "Once the files are uploaded, you should see them appearing in the file system."
   ]
  },
  {
   "cell_type": "markdown",
   "metadata": {
    "id": "XIbjzUAInE97"
   },
   "source": [
    "We'll now create `SSTDataset`, a dataset class to load the data, and provide a function `__getitem__` to fetch a sentence, preprocess it (following the steps we did earlier) and return the tokenised sentence, attention mask and ground truth label.\n",
    "\n",
    "Note: we do not need to create the segment IDs here since we're working with a task (sentiment analysys) that only has single sentences as input."
   ]
  },
  {
   "cell_type": "code",
   "execution_count": 14,
   "metadata": {
    "executionInfo": {
     "elapsed": 21400,
     "status": "ok",
     "timestamp": 1618296967997,
     "user": {
      "displayName": "Jey Han Lau",
      "photoUrl": "",
      "userId": "09065329932778503205"
     },
     "user_tz": -600
    },
    "id": "DGtUWjhr39zC"
   },
   "outputs": [],
   "source": [
    "import torch\n",
    "from torch.utils.data import Dataset\n",
    "from transformers import BertTokenizer\n",
    "import pandas as pd\n",
    "\n",
    "class SSTDataset(Dataset):\n",
    "\n",
    "    def __init__(self, filename, maxlen):\n",
    "\n",
    "        #Store the contents of the file in a pandas dataframe\n",
    "        self.df = pd.read_csv(filename, delimiter = '\\t')\n",
    "\n",
    "        #Initialize the BERT tokenizer\n",
    "        self.tokenizer = BertTokenizer.from_pretrained('bert-base-uncased')\n",
    "\n",
    "        self.maxlen = maxlen\n",
    "\n",
    "    def __len__(self):\n",
    "        return len(self.df)\n",
    "\n",
    "    def __getitem__(self, index):\n",
    "\n",
    "        #Selecting the sentence and label at the specified index in the data frame\n",
    "        sentence = self.df.loc[index, 'sentence']\n",
    "        label = self.df.loc[index, 'label']\n",
    "\n",
    "        #Preprocessing the text to be suitable for BERT\n",
    "        tokens = self.tokenizer.tokenize(sentence) #Tokenize the sentence\n",
    "        tokens = ['[CLS]'] + tokens + ['[SEP]'] #Insering the CLS and SEP token in the beginning and end of the sentence\n",
    "        if len(tokens) < self.maxlen:\n",
    "            tokens = tokens + ['[PAD]' for _ in range(self.maxlen - len(tokens))] #Padding sentences\n",
    "        else:\n",
    "            tokens = tokens[:self.maxlen-1] + ['[SEP]'] #Prunning the list to be of specified max length\n",
    "\n",
    "        tokens_ids = self.tokenizer.convert_tokens_to_ids(tokens) #Obtaining the indices of the tokens in the BERT Vocabulary\n",
    "        tokens_ids_tensor = torch.tensor(tokens_ids) #Converting the list to a pytorch tensor\n",
    "\n",
    "        #Obtaining the attention mask i.e a tensor containing 1s for no padded tokens and 0s for padded ones\n",
    "        attn_mask = (tokens_ids_tensor != 0).long()\n",
    "\n",
    "        return tokens_ids_tensor, attn_mask, label"
   ]
  },
  {
   "cell_type": "markdown",
   "metadata": {
    "id": "qrc6aHBW39zE"
   },
   "source": [
    "Now let's create the training and development data using the `SSTDataset` class and pytorch's `DataLoader`."
   ]
  },
  {
   "cell_type": "code",
   "execution_count": 15,
   "metadata": {
    "colab": {
     "base_uri": "https://localhost:8080/"
    },
    "executionInfo": {
     "elapsed": 23686,
     "status": "ok",
     "timestamp": 1618296970290,
     "user": {
      "displayName": "Jey Han Lau",
      "photoUrl": "",
      "userId": "09065329932778503205"
     },
     "user_tz": -600
    },
    "id": "pzhUQHT439zF",
    "outputId": "d82f0d68-0546-4a62-9128-f50a0dbc944e"
   },
   "outputs": [
    {
     "name": "stdout",
     "output_type": "stream",
     "text": [
      "Done preprocessing training and development data.\n"
     ]
    }
   ],
   "source": [
    "from torch.utils.data import DataLoader\n",
    "\n",
    "#Creating instances of training and development set\n",
    "#maxlen sets the maximum length a sentence can have\n",
    "#any sentence longer than this length is truncated to the maxlen size\n",
    "train_set = SSTDataset(filename = '10-train.tsv', maxlen = 30)\n",
    "dev_set = SSTDataset(filename = '10-dev.tsv', maxlen = 30)\n",
    "\n",
    "#Creating intsances of training and development dataloaders\n",
    "train_loader = DataLoader(train_set, batch_size = 64, num_workers = 2)\n",
    "dev_loader = DataLoader(dev_set, batch_size = 64, num_workers = 2)\n",
    "\n",
    "print(\"Done preprocessing training and development data.\")"
   ]
  },
  {
   "cell_type": "markdown",
   "metadata": {
    "id": "G2t1KRAE39zH"
   },
   "source": [
    "Recall how we use BERT for downstream task:\n",
    "\n",
    "<img src=\"http://jalammar.github.io/images/bert-classifier.png\" width=\"70%\">\n",
    "\n",
    "We feed the input sequence to BERT, and take the contextualised embedding of [CLS] produced by BERT, and pass it to a classifier, which can be a simple feedforward network. As our task is a binary classification problem (positive or negative sentiment label), we only need the output layer to produce a single scalar value to denote the probability of the positive class.\n",
    "\n",
    "Note: when we fine-tune our model we'll update all the parameters in the model (BERT's and the classification layer's)."
   ]
  },
  {
   "cell_type": "code",
   "execution_count": null,
   "metadata": {
    "executionInfo": {
     "elapsed": 23686,
     "status": "ok",
     "timestamp": 1618296970291,
     "user": {
      "displayName": "Jey Han Lau",
      "photoUrl": "",
      "userId": "09065329932778503205"
     },
     "user_tz": -600
    },
    "id": "-mC5rpX939zI"
   },
   "outputs": [],
   "source": [
    "import torch\n",
    "import torch.nn as nn\n",
    "from transformers import BertModel\n",
    "\n",
    "class SentimentClassifier(nn.Module):\n",
    "\n",
    "    def __init__(self):\n",
    "        super(SentimentClassifier, self).__init__()\n",
    "        #Instantiating BERT model object \n",
    "        self.bert_layer = BertModel.from_pretrained('bert-base-uncased')\n",
    "        \n",
    "        #Classification layer\n",
    "        #input dimension is 768 because [CLS] embedding has a dimension of 768\n",
    "        #output dimension is 1 because we're working with a binary classification problem\n",
    "        self.cls_layer = nn.Linear(768, 1)\n",
    "\n",
    "    def forward(self, seq, attn_masks):\n",
    "        '''\n",
    "        Inputs:\n",
    "            -seq : Tensor of shape [B, T] containing token ids of sequences\n",
    "            -attn_masks : Tensor of shape [B, T] containing attention masks to be used to avoid contibution of PAD tokens\n",
    "        '''\n",
    "\n",
    "        #Feeding the input to BERT model to obtain contextualized representations\n",
    "        outputs = self.bert_layer(seq, attention_mask = attn_masks, return_dict=True)\n",
    "        cont_reps = outputs.last_hidden_state\n",
    "\n",
    "        #Obtaining the representation of [CLS] head (the first token)\n",
    "        cls_rep = cont_reps[:, 0]\n",
    "\n",
    "        #Feeding cls_rep to the classifier layer\n",
    "        logits = self.cls_layer(cls_rep)\n",
    "\n",
    "        return logits"
   ]
  },
  {
   "cell_type": "markdown",
   "metadata": {
    "id": "kbapDA4HnE-F"
   },
   "source": [
    "Now let's create the sentiment classifier with pre-trained BERT's parameters. We'll put the model on GPU. This step might take a bit of time."
   ]
  },
  {
   "cell_type": "code",
   "execution_count": null,
   "metadata": {
    "colab": {
     "base_uri": "https://localhost:8080/"
    },
    "executionInfo": {
     "elapsed": 37403,
     "status": "ok",
     "timestamp": 1618296984019,
     "user": {
      "displayName": "Jey Han Lau",
      "photoUrl": "",
      "userId": "09065329932778503205"
     },
     "user_tz": -600
    },
    "id": "uuT4iQWN39zK",
    "outputId": "1f2afde6-bb6e-4005-e66f-f84b325d8851"
   },
   "outputs": [],
   "source": [
    "gpu = 0 #gpu ID\n",
    "\n",
    "print(\"Creating the sentiment classifier, initialised with pretrained BERT-BASE parameters...\")\n",
    "net = SentimentClassifier()\n",
    "net.cuda(gpu) #Enable gpu support for the model\n",
    "print(\"Done creating the sentiment classifier.\")"
   ]
  },
  {
   "cell_type": "markdown",
   "metadata": {
    "id": "YaKjG-RL39zN"
   },
   "source": [
    "We need to define a loss function for our model. Since it's a binary task, we'll use binary cross-entropy. We'll also use Adam as our optimiser."
   ]
  },
  {
   "cell_type": "code",
   "execution_count": null,
   "metadata": {
    "executionInfo": {
     "elapsed": 37402,
     "status": "ok",
     "timestamp": 1618296984020,
     "user": {
      "displayName": "Jey Han Lau",
      "photoUrl": "",
      "userId": "09065329932778503205"
     },
     "user_tz": -600
    },
    "id": "uEFvInHa39zN"
   },
   "outputs": [],
   "source": [
    "import torch.nn as nn\n",
    "import torch.optim as optim\n",
    "\n",
    "criterion = nn.BCEWithLogitsLoss()\n",
    "opti = optim.Adam(net.parameters(), lr = 2e-5)"
   ]
  },
  {
   "cell_type": "markdown",
   "metadata": {
    "id": "bczJ88nc39zP"
   },
   "source": [
    "Next let's define the training function. During training, we fetch a minibatch of examples from the data loader, and feed it to the classifier to get the output logits and compute the loss. `loss.backward()` is a function to compute the gradients for the parameters based on the loss, and `opti.step()` is a function to update parameters using the gradients."
   ]
  },
  {
   "cell_type": "code",
   "execution_count": null,
   "metadata": {
    "executionInfo": {
     "elapsed": 37400,
     "status": "ok",
     "timestamp": 1618296984020,
     "user": {
      "displayName": "Jey Han Lau",
      "photoUrl": "",
      "userId": "09065329932778503205"
     },
     "user_tz": -600
    },
    "id": "NZlOKYq339zP"
   },
   "outputs": [],
   "source": [
    "import time\n",
    "\n",
    "def train(net, criterion, opti, train_loader, dev_loader, max_eps, gpu):\n",
    "\n",
    "    best_acc = 0\n",
    "    st = time.time()\n",
    "    for ep in range(max_eps):\n",
    "        \n",
    "        net.train()\n",
    "        for it, (seq, attn_masks, labels) in enumerate(train_loader):\n",
    "            #Clear gradients\n",
    "            opti.zero_grad()  \n",
    "            #Converting these to cuda tensors\n",
    "            seq, attn_masks, labels = seq.cuda(gpu), attn_masks.cuda(gpu), labels.cuda(gpu)\n",
    "\n",
    "            #Obtaining the logits from the model\n",
    "            logits = net(seq, attn_masks)\n",
    "\n",
    "            #Computing loss\n",
    "            loss = criterion(logits.squeeze(-1), labels.float())\n",
    "\n",
    "            #Backpropagating the gradients\n",
    "            loss.backward()\n",
    "\n",
    "            #Optimization step\n",
    "            opti.step()\n",
    "              \n",
    "            if it % 100 == 0:\n",
    "                \n",
    "                acc = get_accuracy_from_logits(logits, labels)\n",
    "                print(\"Iteration {} of epoch {} complete. Loss: {}; Accuracy: {}; Time taken (s): {}\".format(it, ep, loss.item(), acc, (time.time()-st)))\n",
    "                st = time.time()\n",
    "\n",
    "        \n",
    "        dev_acc, dev_loss = evaluate(net, criterion, dev_loader, gpu)\n",
    "        print(\"Epoch {} complete! Development Accuracy: {}; Development Loss: {}\".format(ep, dev_acc, dev_loss))\n",
    "        if dev_acc > best_acc:\n",
    "            print(\"Best development accuracy improved from {} to {}, saving model...\".format(best_acc, dev_acc))\n",
    "            best_acc = dev_acc\n",
    "            torch.save(net.state_dict(), 'sstcls_{}.dat'.format(ep))"
   ]
  },
  {
   "cell_type": "markdown",
   "metadata": {
    "id": "n-sxGWQ439zS"
   },
   "source": [
    "Notice that we check the development performance after every training epoch, and only save the model when we see a performance improvement.\n",
    "\n",
    "A couple more housekeeping functions we need to define for evaluation."
   ]
  },
  {
   "cell_type": "code",
   "execution_count": null,
   "metadata": {
    "executionInfo": {
     "elapsed": 37400,
     "status": "ok",
     "timestamp": 1618296984021,
     "user": {
      "displayName": "Jey Han Lau",
      "photoUrl": "",
      "userId": "09065329932778503205"
     },
     "user_tz": -600
    },
    "id": "L2qR1DKQ39zS"
   },
   "outputs": [],
   "source": [
    "def get_accuracy_from_logits(logits, labels):\n",
    "    probs = torch.sigmoid(logits.unsqueeze(-1))\n",
    "    soft_probs = (probs > 0.5).long()\n",
    "    acc = (soft_probs.squeeze() == labels).float().mean()\n",
    "    return acc\n",
    "\n",
    "def evaluate(net, criterion, dataloader, gpu):\n",
    "    net.eval()\n",
    "\n",
    "    mean_acc, mean_loss = 0, 0\n",
    "    count = 0\n",
    "\n",
    "    with torch.no_grad():\n",
    "        for seq, attn_masks, labels in dataloader:\n",
    "            seq, attn_masks, labels = seq.cuda(gpu), attn_masks.cuda(gpu), labels.cuda(gpu)\n",
    "            logits = net(seq, attn_masks)\n",
    "            mean_loss += criterion(logits.squeeze(-1), labels.float()).item()\n",
    "            mean_acc += get_accuracy_from_logits(logits, labels)\n",
    "            count += 1\n",
    "\n",
    "    return mean_acc / count, mean_loss / count"
   ]
  },
  {
   "cell_type": "markdown",
   "metadata": {
    "id": "vYqaIiqUnE-U"
   },
   "source": [
    "We're almost ready to fine-tune the sentiment classifier! We'll train with 1 epoch and see what performance we get.\n",
    "\n",
    "There are about 1000 iterations for one epoch, and generally 100 iterations takes about 20-35 seconds (depending what GPU you're randomly allocated), so one epoch of training should hopefully take no more than 10 minutes."
   ]
  },
  {
   "cell_type": "code",
   "execution_count": null,
   "metadata": {
    "colab": {
     "base_uri": "https://localhost:8080/"
    },
    "executionInfo": {
     "elapsed": 407719,
     "status": "ok",
     "timestamp": 1618297354342,
     "user": {
      "displayName": "Jey Han Lau",
      "photoUrl": "",
      "userId": "09065329932778503205"
     },
     "user_tz": -600
    },
    "id": "grPQtazw39zV",
    "outputId": "4e59ef78-c691-40cb-e45a-f9cfb4ef10d1"
   },
   "outputs": [],
   "source": [
    "num_epoch = 1\n",
    "\n",
    "#fine-tune the model\n",
    "train(net, criterion, opti, train_loader, dev_loader, num_epoch, gpu)"
   ]
  },
  {
   "cell_type": "markdown",
   "metadata": {
    "id": "3fk0XYLP-k5I"
   },
   "source": [
    "Hopefully your model should get around 90% accuracy, which is a pretty good performance. Feel free to run again but with more epochs and see if you can get a better performance."
   ]
  }
 ],
 "metadata": {
  "accelerator": "GPU",
  "colab": {
   "collapsed_sections": [],
   "name": "10-bert.ipynb",
   "provenance": [],
   "toc_visible": true
  },
  "kernelspec": {
   "display_name": "Python 3 (ipykernel)",
   "language": "python",
   "name": "python3"
  },
  "language_info": {
   "codemirror_mode": {
    "name": "ipython",
    "version": 3
   },
   "file_extension": ".py",
   "mimetype": "text/x-python",
   "name": "python",
   "nbconvert_exporter": "python",
   "pygments_lexer": "ipython3",
   "version": "3.9.7"
  },
  "toc": {
   "base_numbering": 1,
   "nav_menu": {},
   "number_sections": true,
   "sideBar": true,
   "skip_h1_title": false,
   "title_cell": "Table of Contents",
   "title_sidebar": "Contents",
   "toc_cell": false,
   "toc_position": {},
   "toc_section_display": true,
   "toc_window_display": false
  },
  "widgets": {
   "application/vnd.jupyter.widget-state+json": {
    "1c9ab2648f5a46e2a7d597b1864bfd73": {
     "model_module": "@jupyter-widgets/base",
     "model_name": "LayoutModel",
     "state": {
      "_model_module": "@jupyter-widgets/base",
      "_model_module_version": "1.2.0",
      "_model_name": "LayoutModel",
      "_view_count": null,
      "_view_module": "@jupyter-widgets/base",
      "_view_module_version": "1.2.0",
      "_view_name": "LayoutView",
      "align_content": null,
      "align_items": null,
      "align_self": null,
      "border": null,
      "bottom": null,
      "display": null,
      "flex": null,
      "flex_flow": null,
      "grid_area": null,
      "grid_auto_columns": null,
      "grid_auto_flow": null,
      "grid_auto_rows": null,
      "grid_column": null,
      "grid_gap": null,
      "grid_row": null,
      "grid_template_areas": null,
      "grid_template_columns": null,
      "grid_template_rows": null,
      "height": null,
      "justify_content": null,
      "justify_items": null,
      "left": null,
      "margin": null,
      "max_height": null,
      "max_width": null,
      "min_height": null,
      "min_width": null,
      "object_fit": null,
      "object_position": null,
      "order": null,
      "overflow": null,
      "overflow_x": null,
      "overflow_y": null,
      "padding": null,
      "right": null,
      "top": null,
      "visibility": null,
      "width": null
     }
    },
    "2aba1e75e26b4835b0c165c46b1185c6": {
     "model_module": "@jupyter-widgets/controls",
     "model_name": "ProgressStyleModel",
     "state": {
      "_model_module": "@jupyter-widgets/controls",
      "_model_module_version": "1.5.0",
      "_model_name": "ProgressStyleModel",
      "_view_count": null,
      "_view_module": "@jupyter-widgets/base",
      "_view_module_version": "1.2.0",
      "_view_name": "StyleView",
      "bar_color": null,
      "description_width": "initial"
     }
    },
    "2c33295e9e194beea8288f61084965db": {
     "model_module": "@jupyter-widgets/base",
     "model_name": "LayoutModel",
     "state": {
      "_model_module": "@jupyter-widgets/base",
      "_model_module_version": "1.2.0",
      "_model_name": "LayoutModel",
      "_view_count": null,
      "_view_module": "@jupyter-widgets/base",
      "_view_module_version": "1.2.0",
      "_view_name": "LayoutView",
      "align_content": null,
      "align_items": null,
      "align_self": null,
      "border": null,
      "bottom": null,
      "display": null,
      "flex": null,
      "flex_flow": null,
      "grid_area": null,
      "grid_auto_columns": null,
      "grid_auto_flow": null,
      "grid_auto_rows": null,
      "grid_column": null,
      "grid_gap": null,
      "grid_row": null,
      "grid_template_areas": null,
      "grid_template_columns": null,
      "grid_template_rows": null,
      "height": null,
      "justify_content": null,
      "justify_items": null,
      "left": null,
      "margin": null,
      "max_height": null,
      "max_width": null,
      "min_height": null,
      "min_width": null,
      "object_fit": null,
      "object_position": null,
      "order": null,
      "overflow": null,
      "overflow_x": null,
      "overflow_y": null,
      "padding": null,
      "right": null,
      "top": null,
      "visibility": null,
      "width": null
     }
    },
    "37a1805a791b43bc9ba1d73948637d65": {
     "model_module": "@jupyter-widgets/base",
     "model_name": "LayoutModel",
     "state": {
      "_model_module": "@jupyter-widgets/base",
      "_model_module_version": "1.2.0",
      "_model_name": "LayoutModel",
      "_view_count": null,
      "_view_module": "@jupyter-widgets/base",
      "_view_module_version": "1.2.0",
      "_view_name": "LayoutView",
      "align_content": null,
      "align_items": null,
      "align_self": null,
      "border": null,
      "bottom": null,
      "display": null,
      "flex": null,
      "flex_flow": null,
      "grid_area": null,
      "grid_auto_columns": null,
      "grid_auto_flow": null,
      "grid_auto_rows": null,
      "grid_column": null,
      "grid_gap": null,
      "grid_row": null,
      "grid_template_areas": null,
      "grid_template_columns": null,
      "grid_template_rows": null,
      "height": null,
      "justify_content": null,
      "justify_items": null,
      "left": null,
      "margin": null,
      "max_height": null,
      "max_width": null,
      "min_height": null,
      "min_width": null,
      "object_fit": null,
      "object_position": null,
      "order": null,
      "overflow": null,
      "overflow_x": null,
      "overflow_y": null,
      "padding": null,
      "right": null,
      "top": null,
      "visibility": null,
      "width": null
     }
    },
    "3b4c267b7ad84748841b1d9a6af6d93b": {
     "model_module": "@jupyter-widgets/controls",
     "model_name": "HBoxModel",
     "state": {
      "_dom_classes": [],
      "_model_module": "@jupyter-widgets/controls",
      "_model_module_version": "1.5.0",
      "_model_name": "HBoxModel",
      "_view_count": null,
      "_view_module": "@jupyter-widgets/controls",
      "_view_module_version": "1.5.0",
      "_view_name": "HBoxView",
      "box_style": "",
      "children": [
       "IPY_MODEL_4125d0410f38414e81dad276d1e882ad",
       "IPY_MODEL_fb57e22ba2ee44baae2bb834d56b93e8"
      ],
      "layout": "IPY_MODEL_fb34b640799c41d89788a07190d53c36"
     }
    },
    "4125d0410f38414e81dad276d1e882ad": {
     "model_module": "@jupyter-widgets/controls",
     "model_name": "FloatProgressModel",
     "state": {
      "_dom_classes": [],
      "_model_module": "@jupyter-widgets/controls",
      "_model_module_version": "1.5.0",
      "_model_name": "FloatProgressModel",
      "_view_count": null,
      "_view_module": "@jupyter-widgets/controls",
      "_view_module_version": "1.5.0",
      "_view_name": "ProgressView",
      "bar_style": "success",
      "description": "Downloading: 100%",
      "description_tooltip": null,
      "layout": "IPY_MODEL_53a23b0c63874ad0a02533ef7a536600",
      "max": 28,
      "min": 0,
      "orientation": "horizontal",
      "style": "IPY_MODEL_9e9552fe12084124866f393272f0ff6a",
      "value": 28
     }
    },
    "498525097ea14544ac558920c387bf7f": {
     "model_module": "@jupyter-widgets/base",
     "model_name": "LayoutModel",
     "state": {
      "_model_module": "@jupyter-widgets/base",
      "_model_module_version": "1.2.0",
      "_model_name": "LayoutModel",
      "_view_count": null,
      "_view_module": "@jupyter-widgets/base",
      "_view_module_version": "1.2.0",
      "_view_name": "LayoutView",
      "align_content": null,
      "align_items": null,
      "align_self": null,
      "border": null,
      "bottom": null,
      "display": null,
      "flex": null,
      "flex_flow": null,
      "grid_area": null,
      "grid_auto_columns": null,
      "grid_auto_flow": null,
      "grid_auto_rows": null,
      "grid_column": null,
      "grid_gap": null,
      "grid_row": null,
      "grid_template_areas": null,
      "grid_template_columns": null,
      "grid_template_rows": null,
      "height": null,
      "justify_content": null,
      "justify_items": null,
      "left": null,
      "margin": null,
      "max_height": null,
      "max_width": null,
      "min_height": null,
      "min_width": null,
      "object_fit": null,
      "object_position": null,
      "order": null,
      "overflow": null,
      "overflow_x": null,
      "overflow_y": null,
      "padding": null,
      "right": null,
      "top": null,
      "visibility": null,
      "width": null
     }
    },
    "4ad237b0e16c4243b7b0b2fb8a428cbd": {
     "model_module": "@jupyter-widgets/base",
     "model_name": "LayoutModel",
     "state": {
      "_model_module": "@jupyter-widgets/base",
      "_model_module_version": "1.2.0",
      "_model_name": "LayoutModel",
      "_view_count": null,
      "_view_module": "@jupyter-widgets/base",
      "_view_module_version": "1.2.0",
      "_view_name": "LayoutView",
      "align_content": null,
      "align_items": null,
      "align_self": null,
      "border": null,
      "bottom": null,
      "display": null,
      "flex": null,
      "flex_flow": null,
      "grid_area": null,
      "grid_auto_columns": null,
      "grid_auto_flow": null,
      "grid_auto_rows": null,
      "grid_column": null,
      "grid_gap": null,
      "grid_row": null,
      "grid_template_areas": null,
      "grid_template_columns": null,
      "grid_template_rows": null,
      "height": null,
      "justify_content": null,
      "justify_items": null,
      "left": null,
      "margin": null,
      "max_height": null,
      "max_width": null,
      "min_height": null,
      "min_width": null,
      "object_fit": null,
      "object_position": null,
      "order": null,
      "overflow": null,
      "overflow_x": null,
      "overflow_y": null,
      "padding": null,
      "right": null,
      "top": null,
      "visibility": null,
      "width": null
     }
    },
    "51d92c91a2a24616b389d9aff1e021b2": {
     "model_module": "@jupyter-widgets/controls",
     "model_name": "HTMLModel",
     "state": {
      "_dom_classes": [],
      "_model_module": "@jupyter-widgets/controls",
      "_model_module_version": "1.5.0",
      "_model_name": "HTMLModel",
      "_view_count": null,
      "_view_module": "@jupyter-widgets/controls",
      "_view_module_version": "1.5.0",
      "_view_name": "HTMLView",
      "description": "",
      "description_tooltip": null,
      "layout": "IPY_MODEL_2c33295e9e194beea8288f61084965db",
      "placeholder": "​",
      "style": "IPY_MODEL_e8e0159d124c49d28770433457f526d1",
      "value": " 440M/440M [00:13&lt;00:00, 33.6MB/s]"
     }
    },
    "52651e00187e4df087181b6fc25e05c1": {
     "model_module": "@jupyter-widgets/base",
     "model_name": "LayoutModel",
     "state": {
      "_model_module": "@jupyter-widgets/base",
      "_model_module_version": "1.2.0",
      "_model_name": "LayoutModel",
      "_view_count": null,
      "_view_module": "@jupyter-widgets/base",
      "_view_module_version": "1.2.0",
      "_view_name": "LayoutView",
      "align_content": null,
      "align_items": null,
      "align_self": null,
      "border": null,
      "bottom": null,
      "display": null,
      "flex": null,
      "flex_flow": null,
      "grid_area": null,
      "grid_auto_columns": null,
      "grid_auto_flow": null,
      "grid_auto_rows": null,
      "grid_column": null,
      "grid_gap": null,
      "grid_row": null,
      "grid_template_areas": null,
      "grid_template_columns": null,
      "grid_template_rows": null,
      "height": null,
      "justify_content": null,
      "justify_items": null,
      "left": null,
      "margin": null,
      "max_height": null,
      "max_width": null,
      "min_height": null,
      "min_width": null,
      "object_fit": null,
      "object_position": null,
      "order": null,
      "overflow": null,
      "overflow_x": null,
      "overflow_y": null,
      "padding": null,
      "right": null,
      "top": null,
      "visibility": null,
      "width": null
     }
    },
    "53a23b0c63874ad0a02533ef7a536600": {
     "model_module": "@jupyter-widgets/base",
     "model_name": "LayoutModel",
     "state": {
      "_model_module": "@jupyter-widgets/base",
      "_model_module_version": "1.2.0",
      "_model_name": "LayoutModel",
      "_view_count": null,
      "_view_module": "@jupyter-widgets/base",
      "_view_module_version": "1.2.0",
      "_view_name": "LayoutView",
      "align_content": null,
      "align_items": null,
      "align_self": null,
      "border": null,
      "bottom": null,
      "display": null,
      "flex": null,
      "flex_flow": null,
      "grid_area": null,
      "grid_auto_columns": null,
      "grid_auto_flow": null,
      "grid_auto_rows": null,
      "grid_column": null,
      "grid_gap": null,
      "grid_row": null,
      "grid_template_areas": null,
      "grid_template_columns": null,
      "grid_template_rows": null,
      "height": null,
      "justify_content": null,
      "justify_items": null,
      "left": null,
      "margin": null,
      "max_height": null,
      "max_width": null,
      "min_height": null,
      "min_width": null,
      "object_fit": null,
      "object_position": null,
      "order": null,
      "overflow": null,
      "overflow_x": null,
      "overflow_y": null,
      "padding": null,
      "right": null,
      "top": null,
      "visibility": null,
      "width": null
     }
    },
    "56b8940646da472983892ec6d3c6aa98": {
     "model_module": "@jupyter-widgets/controls",
     "model_name": "HTMLModel",
     "state": {
      "_dom_classes": [],
      "_model_module": "@jupyter-widgets/controls",
      "_model_module_version": "1.5.0",
      "_model_name": "HTMLModel",
      "_view_count": null,
      "_view_module": "@jupyter-widgets/controls",
      "_view_module_version": "1.5.0",
      "_view_name": "HTMLView",
      "description": "",
      "description_tooltip": null,
      "layout": "IPY_MODEL_6681c34c26174cd8b2e814ed4e15f87b",
      "placeholder": "​",
      "style": "IPY_MODEL_932670e9e28b48a28dfbceb141db7c19",
      "value": " 466k/466k [00:00&lt;00:00, 1.22MB/s]"
     }
    },
    "5d9636dd20f047a797ab17f6de8f9092": {
     "model_module": "@jupyter-widgets/controls",
     "model_name": "FloatProgressModel",
     "state": {
      "_dom_classes": [],
      "_model_module": "@jupyter-widgets/controls",
      "_model_module_version": "1.5.0",
      "_model_name": "FloatProgressModel",
      "_view_count": null,
      "_view_module": "@jupyter-widgets/controls",
      "_view_module_version": "1.5.0",
      "_view_name": "ProgressView",
      "bar_style": "success",
      "description": "Downloading: 100%",
      "description_tooltip": null,
      "layout": "IPY_MODEL_1c9ab2648f5a46e2a7d597b1864bfd73",
      "max": 466062,
      "min": 0,
      "orientation": "horizontal",
      "style": "IPY_MODEL_c47214219e3949448867964eb041ea0a",
      "value": 466062
     }
    },
    "6681c34c26174cd8b2e814ed4e15f87b": {
     "model_module": "@jupyter-widgets/base",
     "model_name": "LayoutModel",
     "state": {
      "_model_module": "@jupyter-widgets/base",
      "_model_module_version": "1.2.0",
      "_model_name": "LayoutModel",
      "_view_count": null,
      "_view_module": "@jupyter-widgets/base",
      "_view_module_version": "1.2.0",
      "_view_name": "LayoutView",
      "align_content": null,
      "align_items": null,
      "align_self": null,
      "border": null,
      "bottom": null,
      "display": null,
      "flex": null,
      "flex_flow": null,
      "grid_area": null,
      "grid_auto_columns": null,
      "grid_auto_flow": null,
      "grid_auto_rows": null,
      "grid_column": null,
      "grid_gap": null,
      "grid_row": null,
      "grid_template_areas": null,
      "grid_template_columns": null,
      "grid_template_rows": null,
      "height": null,
      "justify_content": null,
      "justify_items": null,
      "left": null,
      "margin": null,
      "max_height": null,
      "max_width": null,
      "min_height": null,
      "min_width": null,
      "object_fit": null,
      "object_position": null,
      "order": null,
      "overflow": null,
      "overflow_x": null,
      "overflow_y": null,
      "padding": null,
      "right": null,
      "top": null,
      "visibility": null,
      "width": null
     }
    },
    "6c4d3eaaae4048b4a049e04b52c9ce2a": {
     "model_module": "@jupyter-widgets/controls",
     "model_name": "ProgressStyleModel",
     "state": {
      "_model_module": "@jupyter-widgets/controls",
      "_model_module_version": "1.5.0",
      "_model_name": "ProgressStyleModel",
      "_view_count": null,
      "_view_module": "@jupyter-widgets/base",
      "_view_module_version": "1.2.0",
      "_view_name": "StyleView",
      "bar_color": null,
      "description_width": "initial"
     }
    },
    "6c72db6eda8349d9854cce41c22751eb": {
     "model_module": "@jupyter-widgets/controls",
     "model_name": "DescriptionStyleModel",
     "state": {
      "_model_module": "@jupyter-widgets/controls",
      "_model_module_version": "1.5.0",
      "_model_name": "DescriptionStyleModel",
      "_view_count": null,
      "_view_module": "@jupyter-widgets/base",
      "_view_module_version": "1.2.0",
      "_view_name": "StyleView",
      "description_width": ""
     }
    },
    "7322fae0d93e420c87b04b9fe76592fe": {
     "model_module": "@jupyter-widgets/base",
     "model_name": "LayoutModel",
     "state": {
      "_model_module": "@jupyter-widgets/base",
      "_model_module_version": "1.2.0",
      "_model_name": "LayoutModel",
      "_view_count": null,
      "_view_module": "@jupyter-widgets/base",
      "_view_module_version": "1.2.0",
      "_view_name": "LayoutView",
      "align_content": null,
      "align_items": null,
      "align_self": null,
      "border": null,
      "bottom": null,
      "display": null,
      "flex": null,
      "flex_flow": null,
      "grid_area": null,
      "grid_auto_columns": null,
      "grid_auto_flow": null,
      "grid_auto_rows": null,
      "grid_column": null,
      "grid_gap": null,
      "grid_row": null,
      "grid_template_areas": null,
      "grid_template_columns": null,
      "grid_template_rows": null,
      "height": null,
      "justify_content": null,
      "justify_items": null,
      "left": null,
      "margin": null,
      "max_height": null,
      "max_width": null,
      "min_height": null,
      "min_width": null,
      "object_fit": null,
      "object_position": null,
      "order": null,
      "overflow": null,
      "overflow_x": null,
      "overflow_y": null,
      "padding": null,
      "right": null,
      "top": null,
      "visibility": null,
      "width": null
     }
    },
    "7b93a28e1141420dbda5776e4bb2ea25": {
     "model_module": "@jupyter-widgets/controls",
     "model_name": "HTMLModel",
     "state": {
      "_dom_classes": [],
      "_model_module": "@jupyter-widgets/controls",
      "_model_module_version": "1.5.0",
      "_model_name": "HTMLModel",
      "_view_count": null,
      "_view_module": "@jupyter-widgets/controls",
      "_view_module_version": "1.5.0",
      "_view_name": "HTMLView",
      "description": "",
      "description_tooltip": null,
      "layout": "IPY_MODEL_498525097ea14544ac558920c387bf7f",
      "placeholder": "​",
      "style": "IPY_MODEL_7d5abd77586d4b6d91c4088f32d10ce9",
      "value": " 433/433 [00:13&lt;00:00, 32.0B/s]"
     }
    },
    "7d5abd77586d4b6d91c4088f32d10ce9": {
     "model_module": "@jupyter-widgets/controls",
     "model_name": "DescriptionStyleModel",
     "state": {
      "_model_module": "@jupyter-widgets/controls",
      "_model_module_version": "1.5.0",
      "_model_name": "DescriptionStyleModel",
      "_view_count": null,
      "_view_module": "@jupyter-widgets/base",
      "_view_module_version": "1.2.0",
      "_view_name": "StyleView",
      "description_width": ""
     }
    },
    "8ddafd877934427ca608eb50d277c6cc": {
     "model_module": "@jupyter-widgets/base",
     "model_name": "LayoutModel",
     "state": {
      "_model_module": "@jupyter-widgets/base",
      "_model_module_version": "1.2.0",
      "_model_name": "LayoutModel",
      "_view_count": null,
      "_view_module": "@jupyter-widgets/base",
      "_view_module_version": "1.2.0",
      "_view_name": "LayoutView",
      "align_content": null,
      "align_items": null,
      "align_self": null,
      "border": null,
      "bottom": null,
      "display": null,
      "flex": null,
      "flex_flow": null,
      "grid_area": null,
      "grid_auto_columns": null,
      "grid_auto_flow": null,
      "grid_auto_rows": null,
      "grid_column": null,
      "grid_gap": null,
      "grid_row": null,
      "grid_template_areas": null,
      "grid_template_columns": null,
      "grid_template_rows": null,
      "height": null,
      "justify_content": null,
      "justify_items": null,
      "left": null,
      "margin": null,
      "max_height": null,
      "max_width": null,
      "min_height": null,
      "min_width": null,
      "object_fit": null,
      "object_position": null,
      "order": null,
      "overflow": null,
      "overflow_x": null,
      "overflow_y": null,
      "padding": null,
      "right": null,
      "top": null,
      "visibility": null,
      "width": null
     }
    },
    "932670e9e28b48a28dfbceb141db7c19": {
     "model_module": "@jupyter-widgets/controls",
     "model_name": "DescriptionStyleModel",
     "state": {
      "_model_module": "@jupyter-widgets/controls",
      "_model_module_version": "1.5.0",
      "_model_name": "DescriptionStyleModel",
      "_view_count": null,
      "_view_module": "@jupyter-widgets/base",
      "_view_module_version": "1.2.0",
      "_view_name": "StyleView",
      "description_width": ""
     }
    },
    "9ab077c6d9f34e00aa2901e5903d7580": {
     "model_module": "@jupyter-widgets/controls",
     "model_name": "FloatProgressModel",
     "state": {
      "_dom_classes": [],
      "_model_module": "@jupyter-widgets/controls",
      "_model_module_version": "1.5.0",
      "_model_name": "FloatProgressModel",
      "_view_count": null,
      "_view_module": "@jupyter-widgets/controls",
      "_view_module_version": "1.5.0",
      "_view_name": "ProgressView",
      "bar_style": "success",
      "description": "Downloading: 100%",
      "description_tooltip": null,
      "layout": "IPY_MODEL_37a1805a791b43bc9ba1d73948637d65",
      "max": 440473133,
      "min": 0,
      "orientation": "horizontal",
      "style": "IPY_MODEL_2aba1e75e26b4835b0c165c46b1185c6",
      "value": 440473133
     }
    },
    "9e9552fe12084124866f393272f0ff6a": {
     "model_module": "@jupyter-widgets/controls",
     "model_name": "ProgressStyleModel",
     "state": {
      "_model_module": "@jupyter-widgets/controls",
      "_model_module_version": "1.5.0",
      "_model_name": "ProgressStyleModel",
      "_view_count": null,
      "_view_module": "@jupyter-widgets/base",
      "_view_module_version": "1.2.0",
      "_view_name": "StyleView",
      "bar_color": null,
      "description_width": "initial"
     }
    },
    "9fc0faf7ddd0476c9f32d4cf8ef342f2": {
     "model_module": "@jupyter-widgets/controls",
     "model_name": "FloatProgressModel",
     "state": {
      "_dom_classes": [],
      "_model_module": "@jupyter-widgets/controls",
      "_model_module_version": "1.5.0",
      "_model_name": "FloatProgressModel",
      "_view_count": null,
      "_view_module": "@jupyter-widgets/controls",
      "_view_module_version": "1.5.0",
      "_view_name": "ProgressView",
      "bar_style": "success",
      "description": "Downloading: 100%",
      "description_tooltip": null,
      "layout": "IPY_MODEL_4ad237b0e16c4243b7b0b2fb8a428cbd",
      "max": 433,
      "min": 0,
      "orientation": "horizontal",
      "style": "IPY_MODEL_e123376683094b41a8e151deb142792e",
      "value": 433
     }
    },
    "a558fc732c0c4c4b8a12605616d16ad4": {
     "model_module": "@jupyter-widgets/controls",
     "model_name": "HBoxModel",
     "state": {
      "_dom_classes": [],
      "_model_module": "@jupyter-widgets/controls",
      "_model_module_version": "1.5.0",
      "_model_name": "HBoxModel",
      "_view_count": null,
      "_view_module": "@jupyter-widgets/controls",
      "_view_module_version": "1.5.0",
      "_view_name": "HBoxView",
      "box_style": "",
      "children": [
       "IPY_MODEL_9fc0faf7ddd0476c9f32d4cf8ef342f2",
       "IPY_MODEL_7b93a28e1141420dbda5776e4bb2ea25"
      ],
      "layout": "IPY_MODEL_cde329ab4a2f4e309625b83d983eb665"
     }
    },
    "b252d105ce094f67ad6018babf79e503": {
     "model_module": "@jupyter-widgets/controls",
     "model_name": "HBoxModel",
     "state": {
      "_dom_classes": [],
      "_model_module": "@jupyter-widgets/controls",
      "_model_module_version": "1.5.0",
      "_model_name": "HBoxModel",
      "_view_count": null,
      "_view_module": "@jupyter-widgets/controls",
      "_view_module_version": "1.5.0",
      "_view_name": "HBoxView",
      "box_style": "",
      "children": [
       "IPY_MODEL_5d9636dd20f047a797ab17f6de8f9092",
       "IPY_MODEL_56b8940646da472983892ec6d3c6aa98"
      ],
      "layout": "IPY_MODEL_e3720bead30647298a5385313f3c1f13"
     }
    },
    "b50cb156207047cd8f441ea8470f9c21": {
     "model_module": "@jupyter-widgets/controls",
     "model_name": "FloatProgressModel",
     "state": {
      "_dom_classes": [],
      "_model_module": "@jupyter-widgets/controls",
      "_model_module_version": "1.5.0",
      "_model_name": "FloatProgressModel",
      "_view_count": null,
      "_view_module": "@jupyter-widgets/controls",
      "_view_module_version": "1.5.0",
      "_view_name": "ProgressView",
      "bar_style": "success",
      "description": "Downloading: 100%",
      "description_tooltip": null,
      "layout": "IPY_MODEL_8ddafd877934427ca608eb50d277c6cc",
      "max": 231508,
      "min": 0,
      "orientation": "horizontal",
      "style": "IPY_MODEL_6c4d3eaaae4048b4a049e04b52c9ce2a",
      "value": 231508
     }
    },
    "b75137e6267f46668a8e96dbd40b97f8": {
     "model_module": "@jupyter-widgets/controls",
     "model_name": "HBoxModel",
     "state": {
      "_dom_classes": [],
      "_model_module": "@jupyter-widgets/controls",
      "_model_module_version": "1.5.0",
      "_model_name": "HBoxModel",
      "_view_count": null,
      "_view_module": "@jupyter-widgets/controls",
      "_view_module_version": "1.5.0",
      "_view_name": "HBoxView",
      "box_style": "",
      "children": [
       "IPY_MODEL_b50cb156207047cd8f441ea8470f9c21",
       "IPY_MODEL_d4732e5208b64242a6dd69ece05aff11"
      ],
      "layout": "IPY_MODEL_7322fae0d93e420c87b04b9fe76592fe"
     }
    },
    "b7536f77337c48b3ad5486076262d167": {
     "model_module": "@jupyter-widgets/controls",
     "model_name": "HBoxModel",
     "state": {
      "_dom_classes": [],
      "_model_module": "@jupyter-widgets/controls",
      "_model_module_version": "1.5.0",
      "_model_name": "HBoxModel",
      "_view_count": null,
      "_view_module": "@jupyter-widgets/controls",
      "_view_module_version": "1.5.0",
      "_view_name": "HBoxView",
      "box_style": "",
      "children": [
       "IPY_MODEL_9ab077c6d9f34e00aa2901e5903d7580",
       "IPY_MODEL_51d92c91a2a24616b389d9aff1e021b2"
      ],
      "layout": "IPY_MODEL_52651e00187e4df087181b6fc25e05c1"
     }
    },
    "bd64e784923b40139c25b863d572a14b": {
     "model_module": "@jupyter-widgets/controls",
     "model_name": "DescriptionStyleModel",
     "state": {
      "_model_module": "@jupyter-widgets/controls",
      "_model_module_version": "1.5.0",
      "_model_name": "DescriptionStyleModel",
      "_view_count": null,
      "_view_module": "@jupyter-widgets/base",
      "_view_module_version": "1.2.0",
      "_view_name": "StyleView",
      "description_width": ""
     }
    },
    "c47214219e3949448867964eb041ea0a": {
     "model_module": "@jupyter-widgets/controls",
     "model_name": "ProgressStyleModel",
     "state": {
      "_model_module": "@jupyter-widgets/controls",
      "_model_module_version": "1.5.0",
      "_model_name": "ProgressStyleModel",
      "_view_count": null,
      "_view_module": "@jupyter-widgets/base",
      "_view_module_version": "1.2.0",
      "_view_name": "StyleView",
      "bar_color": null,
      "description_width": "initial"
     }
    },
    "cde329ab4a2f4e309625b83d983eb665": {
     "model_module": "@jupyter-widgets/base",
     "model_name": "LayoutModel",
     "state": {
      "_model_module": "@jupyter-widgets/base",
      "_model_module_version": "1.2.0",
      "_model_name": "LayoutModel",
      "_view_count": null,
      "_view_module": "@jupyter-widgets/base",
      "_view_module_version": "1.2.0",
      "_view_name": "LayoutView",
      "align_content": null,
      "align_items": null,
      "align_self": null,
      "border": null,
      "bottom": null,
      "display": null,
      "flex": null,
      "flex_flow": null,
      "grid_area": null,
      "grid_auto_columns": null,
      "grid_auto_flow": null,
      "grid_auto_rows": null,
      "grid_column": null,
      "grid_gap": null,
      "grid_row": null,
      "grid_template_areas": null,
      "grid_template_columns": null,
      "grid_template_rows": null,
      "height": null,
      "justify_content": null,
      "justify_items": null,
      "left": null,
      "margin": null,
      "max_height": null,
      "max_width": null,
      "min_height": null,
      "min_width": null,
      "object_fit": null,
      "object_position": null,
      "order": null,
      "overflow": null,
      "overflow_x": null,
      "overflow_y": null,
      "padding": null,
      "right": null,
      "top": null,
      "visibility": null,
      "width": null
     }
    },
    "cf92febcf4724c5fa98205d103dcf918": {
     "model_module": "@jupyter-widgets/base",
     "model_name": "LayoutModel",
     "state": {
      "_model_module": "@jupyter-widgets/base",
      "_model_module_version": "1.2.0",
      "_model_name": "LayoutModel",
      "_view_count": null,
      "_view_module": "@jupyter-widgets/base",
      "_view_module_version": "1.2.0",
      "_view_name": "LayoutView",
      "align_content": null,
      "align_items": null,
      "align_self": null,
      "border": null,
      "bottom": null,
      "display": null,
      "flex": null,
      "flex_flow": null,
      "grid_area": null,
      "grid_auto_columns": null,
      "grid_auto_flow": null,
      "grid_auto_rows": null,
      "grid_column": null,
      "grid_gap": null,
      "grid_row": null,
      "grid_template_areas": null,
      "grid_template_columns": null,
      "grid_template_rows": null,
      "height": null,
      "justify_content": null,
      "justify_items": null,
      "left": null,
      "margin": null,
      "max_height": null,
      "max_width": null,
      "min_height": null,
      "min_width": null,
      "object_fit": null,
      "object_position": null,
      "order": null,
      "overflow": null,
      "overflow_x": null,
      "overflow_y": null,
      "padding": null,
      "right": null,
      "top": null,
      "visibility": null,
      "width": null
     }
    },
    "d4732e5208b64242a6dd69ece05aff11": {
     "model_module": "@jupyter-widgets/controls",
     "model_name": "HTMLModel",
     "state": {
      "_dom_classes": [],
      "_model_module": "@jupyter-widgets/controls",
      "_model_module_version": "1.5.0",
      "_model_name": "HTMLModel",
      "_view_count": null,
      "_view_module": "@jupyter-widgets/controls",
      "_view_module_version": "1.5.0",
      "_view_name": "HTMLView",
      "description": "",
      "description_tooltip": null,
      "layout": "IPY_MODEL_e2b65a56abce4c1bb4fa4839e128ccfc",
      "placeholder": "​",
      "style": "IPY_MODEL_6c72db6eda8349d9854cce41c22751eb",
      "value": " 232k/232k [00:02&lt;00:00, 111kB/s]"
     }
    },
    "e123376683094b41a8e151deb142792e": {
     "model_module": "@jupyter-widgets/controls",
     "model_name": "ProgressStyleModel",
     "state": {
      "_model_module": "@jupyter-widgets/controls",
      "_model_module_version": "1.5.0",
      "_model_name": "ProgressStyleModel",
      "_view_count": null,
      "_view_module": "@jupyter-widgets/base",
      "_view_module_version": "1.2.0",
      "_view_name": "StyleView",
      "bar_color": null,
      "description_width": "initial"
     }
    },
    "e2b65a56abce4c1bb4fa4839e128ccfc": {
     "model_module": "@jupyter-widgets/base",
     "model_name": "LayoutModel",
     "state": {
      "_model_module": "@jupyter-widgets/base",
      "_model_module_version": "1.2.0",
      "_model_name": "LayoutModel",
      "_view_count": null,
      "_view_module": "@jupyter-widgets/base",
      "_view_module_version": "1.2.0",
      "_view_name": "LayoutView",
      "align_content": null,
      "align_items": null,
      "align_self": null,
      "border": null,
      "bottom": null,
      "display": null,
      "flex": null,
      "flex_flow": null,
      "grid_area": null,
      "grid_auto_columns": null,
      "grid_auto_flow": null,
      "grid_auto_rows": null,
      "grid_column": null,
      "grid_gap": null,
      "grid_row": null,
      "grid_template_areas": null,
      "grid_template_columns": null,
      "grid_template_rows": null,
      "height": null,
      "justify_content": null,
      "justify_items": null,
      "left": null,
      "margin": null,
      "max_height": null,
      "max_width": null,
      "min_height": null,
      "min_width": null,
      "object_fit": null,
      "object_position": null,
      "order": null,
      "overflow": null,
      "overflow_x": null,
      "overflow_y": null,
      "padding": null,
      "right": null,
      "top": null,
      "visibility": null,
      "width": null
     }
    },
    "e3720bead30647298a5385313f3c1f13": {
     "model_module": "@jupyter-widgets/base",
     "model_name": "LayoutModel",
     "state": {
      "_model_module": "@jupyter-widgets/base",
      "_model_module_version": "1.2.0",
      "_model_name": "LayoutModel",
      "_view_count": null,
      "_view_module": "@jupyter-widgets/base",
      "_view_module_version": "1.2.0",
      "_view_name": "LayoutView",
      "align_content": null,
      "align_items": null,
      "align_self": null,
      "border": null,
      "bottom": null,
      "display": null,
      "flex": null,
      "flex_flow": null,
      "grid_area": null,
      "grid_auto_columns": null,
      "grid_auto_flow": null,
      "grid_auto_rows": null,
      "grid_column": null,
      "grid_gap": null,
      "grid_row": null,
      "grid_template_areas": null,
      "grid_template_columns": null,
      "grid_template_rows": null,
      "height": null,
      "justify_content": null,
      "justify_items": null,
      "left": null,
      "margin": null,
      "max_height": null,
      "max_width": null,
      "min_height": null,
      "min_width": null,
      "object_fit": null,
      "object_position": null,
      "order": null,
      "overflow": null,
      "overflow_x": null,
      "overflow_y": null,
      "padding": null,
      "right": null,
      "top": null,
      "visibility": null,
      "width": null
     }
    },
    "e8e0159d124c49d28770433457f526d1": {
     "model_module": "@jupyter-widgets/controls",
     "model_name": "DescriptionStyleModel",
     "state": {
      "_model_module": "@jupyter-widgets/controls",
      "_model_module_version": "1.5.0",
      "_model_name": "DescriptionStyleModel",
      "_view_count": null,
      "_view_module": "@jupyter-widgets/base",
      "_view_module_version": "1.2.0",
      "_view_name": "StyleView",
      "description_width": ""
     }
    },
    "fb34b640799c41d89788a07190d53c36": {
     "model_module": "@jupyter-widgets/base",
     "model_name": "LayoutModel",
     "state": {
      "_model_module": "@jupyter-widgets/base",
      "_model_module_version": "1.2.0",
      "_model_name": "LayoutModel",
      "_view_count": null,
      "_view_module": "@jupyter-widgets/base",
      "_view_module_version": "1.2.0",
      "_view_name": "LayoutView",
      "align_content": null,
      "align_items": null,
      "align_self": null,
      "border": null,
      "bottom": null,
      "display": null,
      "flex": null,
      "flex_flow": null,
      "grid_area": null,
      "grid_auto_columns": null,
      "grid_auto_flow": null,
      "grid_auto_rows": null,
      "grid_column": null,
      "grid_gap": null,
      "grid_row": null,
      "grid_template_areas": null,
      "grid_template_columns": null,
      "grid_template_rows": null,
      "height": null,
      "justify_content": null,
      "justify_items": null,
      "left": null,
      "margin": null,
      "max_height": null,
      "max_width": null,
      "min_height": null,
      "min_width": null,
      "object_fit": null,
      "object_position": null,
      "order": null,
      "overflow": null,
      "overflow_x": null,
      "overflow_y": null,
      "padding": null,
      "right": null,
      "top": null,
      "visibility": null,
      "width": null
     }
    },
    "fb57e22ba2ee44baae2bb834d56b93e8": {
     "model_module": "@jupyter-widgets/controls",
     "model_name": "HTMLModel",
     "state": {
      "_dom_classes": [],
      "_model_module": "@jupyter-widgets/controls",
      "_model_module_version": "1.5.0",
      "_model_name": "HTMLModel",
      "_view_count": null,
      "_view_module": "@jupyter-widgets/controls",
      "_view_module_version": "1.5.0",
      "_view_name": "HTMLView",
      "description": "",
      "description_tooltip": null,
      "layout": "IPY_MODEL_cf92febcf4724c5fa98205d103dcf918",
      "placeholder": "​",
      "style": "IPY_MODEL_bd64e784923b40139c25b863d572a14b",
      "value": " 28.0/28.0 [00:00&lt;00:00, 31.6B/s]"
     }
    }
   }
  }
 },
 "nbformat": 4,
 "nbformat_minor": 1
}
